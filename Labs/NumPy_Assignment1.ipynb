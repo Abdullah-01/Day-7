{
 "cells": [
  {
   "cell_type": "code",
   "execution_count": 1,
   "id": "212fd1ba",
   "metadata": {},
   "outputs": [],
   "source": [
    "import numpy as np"
   ]
  },
  {
   "cell_type": "markdown",
   "id": "10803eb0",
   "metadata": {},
   "source": [
    "## Q#1: Create x array with elements equal to 1."
   ]
  },
  {
   "cell_type": "code",
   "execution_count": 3,
   "id": "3307454f",
   "metadata": {},
   "outputs": [
    {
     "name": "stdout",
     "output_type": "stream",
     "text": [
      "[1. 1. 1. 1. 1. 1. 1. 1. 1. 1.]\n"
     ]
    }
   ],
   "source": [
    "x = np.ones(10)  #saving 10 ones in array x\n",
    "\n",
    "print(x) "
   ]
  },
  {
   "cell_type": "markdown",
   "id": "7795306d",
   "metadata": {},
   "source": [
    "## Q#2: Create y array with elements equal to 0."
   ]
  },
  {
   "cell_type": "code",
   "execution_count": 5,
   "id": "9550b063",
   "metadata": {},
   "outputs": [
    {
     "name": "stdout",
     "output_type": "stream",
     "text": [
      "[0. 0. 0. 0. 0. 0. 0. 0. 0. 0.]\n"
     ]
    }
   ],
   "source": [
    "y = np.zeros(10) #saving 10 ones in array y\n",
    "\n",
    "print(y)  "
   ]
  },
  {
   "cell_type": "markdown",
   "id": "cde6a939",
   "metadata": {},
   "source": [
    "## Q#3: Add x and y arrays."
   ]
  },
  {
   "cell_type": "code",
   "execution_count": 7,
   "id": "71070d1d",
   "metadata": {},
   "outputs": [
    {
     "name": "stdout",
     "output_type": "stream",
     "text": [
      "x+y is:  [1. 1. 1. 1. 1. 1. 1. 1. 1. 1.]\n"
     ]
    }
   ],
   "source": [
    "z = np.add(x, y) #using function add in numpy to add x and y and save it in array z\n",
    "\n",
    "print(\"x+y is: \", z) "
   ]
  },
  {
   "cell_type": "markdown",
   "id": "ed854f4c",
   "metadata": {},
   "source": [
    "## Q#4: Print x array characteristics (e.g: dimension, shape, size, type)."
   ]
  },
  {
   "cell_type": "code",
   "execution_count": 9,
   "id": "32627c83",
   "metadata": {},
   "outputs": [
    {
     "name": "stdout",
     "output_type": "stream",
     "text": [
      "\n",
      "Dimension of x:  1\n",
      "\n",
      "Shape of x:  1\n",
      "\n",
      "Size of x:  10\n",
      "\n",
      "Shape of x:  float64\n"
     ]
    }
   ],
   "source": [
    "#Dimension of x\n",
    "dim = x.ndim\n",
    "print(\"\\nDimension of x: \", dim)\n",
    "\n",
    "#Shape of x\n",
    "shp = x.shape\n",
    "print(\"\\nShape of x: \", dim)\n",
    "\n",
    "#Size of x\n",
    "s = x.size\n",
    "print(\"\\nSize of x: \", s)\n",
    "\n",
    "#Type of x\n",
    "tp = x.dtype\n",
    "print(\"\\nShape of x: \", tp)"
   ]
  },
  {
   "cell_type": "markdown",
   "id": "dbd46a73",
   "metadata": {},
   "source": [
    "## Q#5: Create a 2D array \"called w\" as the following:\n",
    "\n",
    "|       |          |\n",
    "| ----- | -------- |\n",
    "| 11    | 12       |\n",
    "| 13    | 14       |\n",
    "| 15    | 16       |\n"
   ]
  },
  {
   "cell_type": "code",
   "execution_count": 11,
   "id": "b9c7bbb0",
   "metadata": {},
   "outputs": [
    {
     "name": "stdout",
     "output_type": "stream",
     "text": [
      "[[11 12]\n",
      " [13 14]\n",
      " [15 16]]\n"
     ]
    }
   ],
   "source": [
    "w = np.arange(11, 17) #create w array using arange function, values from 11 to 16\n",
    "\n",
    "w = w.reshape(3,2) #use reshape function to change dimension to (3,2)\n",
    "\n",
    "print(w) "
   ]
  },
  {
   "cell_type": "markdown",
   "id": "0e62bd09",
   "metadata": {},
   "source": [
    "## Q#6: Create z array contains the numbers from 1 to 3."
   ]
  },
  {
   "cell_type": "code",
   "execution_count": 13,
   "id": "cee8aba0",
   "metadata": {},
   "outputs": [
    {
     "name": "stdout",
     "output_type": "stream",
     "text": [
      "[1 2 3]\n"
     ]
    }
   ],
   "source": [
    "z = np.arange(1,4) #create z array using arange function, values from 11 to 16\n",
    "\n",
    "print(z) "
   ]
  },
  {
   "cell_type": "markdown",
   "id": "32b00711",
   "metadata": {},
   "source": [
    "## Q#7: Combine the arrays z and w in horizontal way then save it in a new variable \"newArray\"."
   ]
  },
  {
   "cell_type": "code",
   "execution_count": 15,
   "id": "d218f892",
   "metadata": {},
   "outputs": [
    {
     "name": "stdout",
     "output_type": "stream",
     "text": [
      "[[ 1 11 12]\n",
      " [ 2 13 14]\n",
      " [ 3 15 16]]\n"
     ]
    }
   ],
   "source": [
    "newArray = np.hstack((z.reshape(3,1) , w)) #Combining two arrays horizontaly using hstack but i use reshape to change dimension of z to combine \n",
    "\n",
    "print(newArray)"
   ]
  },
  {
   "cell_type": "markdown",
   "id": "7e009910",
   "metadata": {},
   "source": [
    "## Q#8: Print all elements of \"newArray\" using the loop."
   ]
  },
  {
   "cell_type": "code",
   "execution_count": 17,
   "id": "abbed923",
   "metadata": {},
   "outputs": [
    {
     "name": "stdout",
     "output_type": "stream",
     "text": [
      "1\n",
      "11\n",
      "12\n",
      "2\n",
      "13\n",
      "14\n",
      "3\n",
      "15\n",
      "16\n"
     ]
    }
   ],
   "source": [
    "for i in newArray:\n",
    "    for j in i:\n",
    "        print(j)"
   ]
  },
  {
   "cell_type": "markdown",
   "id": "011c6d2d",
   "metadata": {},
   "source": [
    "## Q#9: Reverse the columns and rows of \"newArray\"."
   ]
  },
  {
   "cell_type": "code",
   "execution_count": 19,
   "id": "12e3f0db",
   "metadata": {},
   "outputs": [
    {
     "name": "stdout",
     "output_type": "stream",
     "text": [
      "[[ 1  2  3]\n",
      " [11 13 15]\n",
      " [12 14 16]]\n"
     ]
    }
   ],
   "source": [
    "newArray = newArray.T # Reverse array newArray using T\n",
    "\n",
    "print(newArray)"
   ]
  },
  {
   "cell_type": "markdown",
   "id": "f40b57c3",
   "metadata": {},
   "source": [
    "## Q#10: Decrement all elements of \"newArray\" with 1."
   ]
  },
  {
   "cell_type": "code",
   "execution_count": 21,
   "id": "aea004df",
   "metadata": {},
   "outputs": [
    {
     "name": "stdout",
     "output_type": "stream",
     "text": [
      "[[ 0  1  2]\n",
      " [10 12 14]\n",
      " [11 13 15]]\n"
     ]
    }
   ],
   "source": [
    "newArray = newArray - 1 #Decrement newArray with 1 another option to use np.substract(newArray , 1)\n",
    "\n",
    "print(newArray)"
   ]
  },
  {
   "cell_type": "markdown",
   "id": "8901e8be",
   "metadata": {},
   "source": [
    "## Q#11: Find smallest and biggest values in \"newArray\"."
   ]
  },
  {
   "cell_type": "code",
   "execution_count": 23,
   "id": "4ea08613",
   "metadata": {},
   "outputs": [
    {
     "name": "stdout",
     "output_type": "stream",
     "text": [
      "biggest value of newArray is:  15\n",
      "samllest value of newArray is:  0\n"
     ]
    }
   ],
   "source": [
    "bgst = np.max(newArray) #Using max function to find the biggest value in newArray\n",
    "\n",
    "print(\"biggest value of newArray is: \" ,bgst)\n",
    "\n",
    "\n",
    "sml = np.min(newArray) #Using min function to find the smallest value in newArray\n",
    "\n",
    "print(\"samllest value of newArray is: \" ,sml)\n"
   ]
  },
  {
   "cell_type": "markdown",
   "id": "c5d5d4ca",
   "metadata": {},
   "source": [
    "## Q#12: Print the first row of \"newArray\" using indexing."
   ]
  },
  {
   "cell_type": "code",
   "execution_count": 25,
   "id": "73e3b5a5",
   "metadata": {},
   "outputs": [
    {
     "name": "stdout",
     "output_type": "stream",
     "text": [
      "[0 1 2]\n"
     ]
    }
   ],
   "source": [
    "print(newArray[0])"
   ]
  },
  {
   "cell_type": "markdown",
   "id": "78f4d6c1",
   "metadata": {},
   "source": [
    "## Q#13: Print the number equals 12 of \"newArray\" using indexing."
   ]
  },
  {
   "cell_type": "code",
   "execution_count": 27,
   "id": "7ad660b7",
   "metadata": {},
   "outputs": [
    {
     "name": "stdout",
     "output_type": "stream",
     "text": [
      "12\n"
     ]
    }
   ],
   "source": [
    "print(newArray[1 , 1]) # print element on coulmn 1 and row 1"
   ]
  },
  {
   "cell_type": "markdown",
   "id": "932b5c3d",
   "metadata": {},
   "source": [
    "## Q#14: Print the numbers equal 0 and 13 of \"newArray\" using indexing."
   ]
  },
  {
   "cell_type": "code",
   "execution_count": 29,
   "id": "31fb5fd0",
   "metadata": {},
   "outputs": [
    {
     "name": "stdout",
     "output_type": "stream",
     "text": [
      "0\n",
      "13\n"
     ]
    }
   ],
   "source": [
    "print(newArray[0 , 0]) # print element on coulmn 0 and row 0\n",
    "\n",
    "print(newArray[2 , 1]) # print element on coulmn 1 and row 2\n",
    " \n"
   ]
  },
  {
   "cell_type": "markdown",
   "id": "27e0f68e",
   "metadata": {},
   "source": [
    "## Q#15: Change the shape of \"newArray\" to (9,1)."
   ]
  },
  {
   "cell_type": "code",
   "execution_count": 31,
   "id": "35f224ad",
   "metadata": {},
   "outputs": [
    {
     "name": "stdout",
     "output_type": "stream",
     "text": [
      "[[ 0]\n",
      " [ 1]\n",
      " [ 2]\n",
      " [10]\n",
      " [12]\n",
      " [14]\n",
      " [11]\n",
      " [13]\n",
      " [15]]\n"
     ]
    }
   ],
   "source": [
    "newArray = newArray.reshape(9,1)\n",
    "print(newArray)"
   ]
  },
  {
   "cell_type": "markdown",
   "id": "e6d104c5",
   "metadata": {},
   "source": [
    "## Q#16: Change the shape of \"newArray\" to (3,2)."
   ]
  },
  {
   "cell_type": "code",
   "execution_count": 34,
   "id": "724d51d5",
   "metadata": {},
   "outputs": [
    {
     "name": "stdout",
     "output_type": "stream",
     "text": [
      "[[ 0  1  2]\n",
      " [10 12 14]\n",
      " [11 13 15]]\n"
     ]
    }
   ],
   "source": [
    "newArray = newArray.reshape(3,3) #reshape (3,2) give me error i think u mean(3,3)\n",
    "print(newArray)"
   ]
  },
  {
   "cell_type": "markdown",
   "id": "09567fdc",
   "metadata": {},
   "source": [
    "# Well Done 🎉"
   ]
  },
  {
   "cell_type": "code",
   "execution_count": null,
   "id": "eb729444-cb3b-4705-b375-ce2b2443ec12",
   "metadata": {},
   "outputs": [],
   "source": []
  }
 ],
 "metadata": {
  "kernelspec": {
   "display_name": "Python 3 (ipykernel)",
   "language": "python",
   "name": "python3"
  },
  "language_info": {
   "codemirror_mode": {
    "name": "ipython",
    "version": 3
   },
   "file_extension": ".py",
   "mimetype": "text/x-python",
   "name": "python",
   "nbconvert_exporter": "python",
   "pygments_lexer": "ipython3",
   "version": "3.12.4"
  }
 },
 "nbformat": 4,
 "nbformat_minor": 5
}
